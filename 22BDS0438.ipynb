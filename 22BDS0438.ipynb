{
  "nbformat": 4,
  "nbformat_minor": 0,
  "metadata": {
    "colab": {
      "provenance": [],
      "gpuType": "T4",
      "include_colab_link": true
    },
    "kernelspec": {
      "name": "python3",
      "display_name": "Python 3"
    },
    "language_info": {
      "name": "python"
    },
    "accelerator": "GPU"
  },
  "cells": [
    {
      "cell_type": "markdown",
      "metadata": {
        "id": "view-in-github",
        "colab_type": "text"
      },
      "source": [
        "<a href=\"https://colab.research.google.com/github/Nikhlendra3079/BCSE331L-Exploratory-Data-Analysis-Course-Project/blob/main/22BDS0438.ipynb\" target=\"_parent\"><img src=\"https://colab.research.google.com/assets/colab-badge.svg\" alt=\"Open In Colab\"/></a>"
      ]
    },
    {
      "cell_type": "code",
      "execution_count": 3,
      "metadata": {
        "id": "IsYTw1SXrCzf"
      },
      "outputs": [],
      "source": [
        "import pandas as pd\n",
        "import matplotlib.pyplot as plt\n",
        "import seaborn as sns\n"
      ]
    },
    {
      "cell_type": "code",
      "source": [
        "df = pd.read_csv(\"https://raw.githubusercontent.com/salemprakash/EDA/main/Data/bank.csv\")\n"
      ],
      "metadata": {
        "id": "cUsSR9fYTQP3"
      },
      "execution_count": 6,
      "outputs": []
    },
    {
      "cell_type": "code",
      "source": [
        "print(\"Dimensions:\", df.shape)\n",
        "print(\"\\nData Types:\\n\", df.dtypes)\n",
        "print(\"\\nMissing Values:\\n\", df.isnull().sum())\n",
        "print(\"\\nSummary Statistics:\\n\", df.describe(include=\"all\"))"
      ],
      "metadata": {
        "id": "mixYHbDhTUT1",
        "colab": {
          "base_uri": "https://localhost:8080/"
        },
        "outputId": "8e4fb4f2-6e7a-4890-da93-f0a3fd930652"
      },
      "execution_count": 7,
      "outputs": [
        {
          "output_type": "stream",
          "name": "stdout",
          "text": [
            "Dimensions: (11162, 17)\n",
            "\n",
            "Data Types:\n",
            " age           int64\n",
            "job          object\n",
            "marital      object\n",
            "education    object\n",
            "default      object\n",
            "balance       int64\n",
            "housing      object\n",
            "loan         object\n",
            "contact      object\n",
            "day           int64\n",
            "month        object\n",
            "duration      int64\n",
            "campaign      int64\n",
            "pdays         int64\n",
            "previous      int64\n",
            "poutcome     object\n",
            "deposit      object\n",
            "dtype: object\n",
            "\n",
            "Missing Values:\n",
            " age          0\n",
            "job          0\n",
            "marital      0\n",
            "education    0\n",
            "default      0\n",
            "balance      0\n",
            "housing      0\n",
            "loan         0\n",
            "contact      0\n",
            "day          0\n",
            "month        0\n",
            "duration     0\n",
            "campaign     0\n",
            "pdays        0\n",
            "previous     0\n",
            "poutcome     0\n",
            "deposit      0\n",
            "dtype: int64\n",
            "\n",
            "Summary Statistics:\n",
            "                  age         job  marital  education default       balance  \\\n",
            "count   11162.000000       11162    11162      11162   11162  11162.000000   \n",
            "unique           NaN          12        3          4       2           NaN   \n",
            "top              NaN  management  married  secondary      no           NaN   \n",
            "freq             NaN        2566     6351       5476   10994           NaN   \n",
            "mean       41.231948         NaN      NaN        NaN     NaN   1528.538524   \n",
            "std        11.913369         NaN      NaN        NaN     NaN   3225.413326   \n",
            "min        18.000000         NaN      NaN        NaN     NaN  -6847.000000   \n",
            "25%        32.000000         NaN      NaN        NaN     NaN    122.000000   \n",
            "50%        39.000000         NaN      NaN        NaN     NaN    550.000000   \n",
            "75%        49.000000         NaN      NaN        NaN     NaN   1708.000000   \n",
            "max        95.000000         NaN      NaN        NaN     NaN  81204.000000   \n",
            "\n",
            "       housing   loan   contact           day  month      duration  \\\n",
            "count    11162  11162     11162  11162.000000  11162  11162.000000   \n",
            "unique       2      2         3           NaN     12           NaN   \n",
            "top         no     no  cellular           NaN    may           NaN   \n",
            "freq      5881   9702      8042           NaN   2824           NaN   \n",
            "mean       NaN    NaN       NaN     15.658036    NaN    371.993818   \n",
            "std        NaN    NaN       NaN      8.420740    NaN    347.128386   \n",
            "min        NaN    NaN       NaN      1.000000    NaN      2.000000   \n",
            "25%        NaN    NaN       NaN      8.000000    NaN    138.000000   \n",
            "50%        NaN    NaN       NaN     15.000000    NaN    255.000000   \n",
            "75%        NaN    NaN       NaN     22.000000    NaN    496.000000   \n",
            "max        NaN    NaN       NaN     31.000000    NaN   3881.000000   \n",
            "\n",
            "            campaign         pdays      previous poutcome deposit  \n",
            "count   11162.000000  11162.000000  11162.000000    11162   11162  \n",
            "unique           NaN           NaN           NaN        4       2  \n",
            "top              NaN           NaN           NaN  unknown      no  \n",
            "freq             NaN           NaN           NaN     8326    5873  \n",
            "mean        2.508421     51.330407      0.832557      NaN     NaN  \n",
            "std         2.722077    108.758282      2.292007      NaN     NaN  \n",
            "min         1.000000     -1.000000      0.000000      NaN     NaN  \n",
            "25%         1.000000     -1.000000      0.000000      NaN     NaN  \n",
            "50%         2.000000     -1.000000      0.000000      NaN     NaN  \n",
            "75%         3.000000     20.750000      1.000000      NaN     NaN  \n",
            "max        63.000000    854.000000     58.000000      NaN     NaN  \n"
          ]
        }
      ]
    },
    {
      "cell_type": "code",
      "source": [
        "df = df.drop_duplicates()"
      ],
      "metadata": {
        "id": "xeGuLWEZThZy"
      },
      "execution_count": null,
      "outputs": []
    },
    {
      "cell_type": "code",
      "source": [
        "numeric_cols = df.select_dtypes(include=[\"int64\", \"float64\"]).columns\n",
        "categorical_cols = df.select_dtypes(include=[\"object\"]).columns\n"
      ],
      "metadata": {
        "id": "8OWx5UMOThmh"
      },
      "execution_count": null,
      "outputs": []
    },
    {
      "cell_type": "code",
      "source": [
        "for col in numeric_cols:\n",
        "    plt.figure(figsize=(6, 4))\n",
        "    sns.histplot(df[col], kde=True)\n",
        "    plt.title(f\"Distribution of {col}\")\n",
        "    plt.show()"
      ],
      "metadata": {
        "id": "uOC5cVbCTnwa"
      },
      "execution_count": null,
      "outputs": []
    },
    {
      "cell_type": "code",
      "source": [
        "for col in categorical_cols:\n",
        "    plt.figure(figsize=(6, 4))\n",
        "    sns.countplot(data=df, x=col, order=df[col].value_counts().index)\n",
        "    plt.title(f\"Count of {col}\")\n",
        "    plt.xticks(rotation=45)\n",
        "    plt.show()"
      ],
      "metadata": {
        "id": "SWCNqWj_Twlr"
      },
      "execution_count": null,
      "outputs": []
    },
    {
      "cell_type": "code",
      "source": [
        "target = \"deposit\""
      ],
      "metadata": {
        "id": "naVvPfe2T0sT"
      },
      "execution_count": null,
      "outputs": []
    },
    {
      "cell_type": "code",
      "source": [
        "for col in numeric_cols:\n",
        "    plt.figure(figsize=(6, 4))\n",
        "    sns.boxplot(data=df, x=target, y=col)\n",
        "    plt.title(f\"{col} vs {target}\")\n",
        "    plt.show()"
      ],
      "metadata": {
        "id": "VCkG6eahT22E"
      },
      "execution_count": null,
      "outputs": []
    },
    {
      "cell_type": "code",
      "source": [
        "for col in categorical_cols:\n",
        "    if col != target:\n",
        "        plt.figure(figsize=(6, 4))\n",
        "        sns.countplot(data=df, x=col, hue=target)\n",
        "        plt.title(f\"{col} vs {target}\")\n",
        "        plt.xticks(rotation=45)\n",
        "        plt.show()\n"
      ],
      "metadata": {
        "id": "VgJsLqBHT5V7"
      },
      "execution_count": null,
      "outputs": []
    },
    {
      "cell_type": "code",
      "source": [
        "plt.figure(figsize=(10, 6))\n",
        "corr = df[numeric_cols].corr()\n",
        "sns.heatmap(corr, annot=True, cmap=\"coolwarm\")\n",
        "plt.title(\"Correlation Heatmap\")\n",
        "plt.show()"
      ],
      "metadata": {
        "id": "YcD_BIoaT7Ms"
      },
      "execution_count": null,
      "outputs": []
    },
    {
      "cell_type": "code",
      "source": [
        "sns.pairplot(df[numeric_cols])\n",
        "plt.show()\n"
      ],
      "metadata": {
        "id": "BeucsaXTT8Zk"
      },
      "execution_count": null,
      "outputs": []
    }
  ]
}